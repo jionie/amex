{
 "cells": [
  {
   "cell_type": "code",
   "execution_count": null,
   "metadata": {},
   "outputs": [],
   "source": [
    "import os\n",
    "import gc\n",
    "from joblib import dump, load\n",
    "import pandas as pd\n",
    "import numpy as np\n",
    "import random\n",
    "import matplotlib.pyplot as plt\n",
    "from tqdm import tqdm\n",
    "from sklearn.model_selection import StratifiedKFold\n",
    "import xgboost as xgb\n",
    "from hyperopt import STATUS_OK, Trials, fmin, hp, tpe"
   ]
  },
  {
   "cell_type": "markdown",
   "metadata": {},
   "source": [
    "# load files"
   ]
  },
  {
   "cell_type": "code",
   "execution_count": null,
   "metadata": {},
   "outputs": [],
   "source": [
    "train = pd.read_parquet(\"../input/train_full_features.parquet\")"
   ]
  },
  {
   "cell_type": "markdown",
   "metadata": {},
   "source": [
    "# define loss and metric"
   ]
  },
  {
   "cell_type": "code",
   "execution_count": null,
   "metadata": {},
   "outputs": [],
   "source": [
    "def amex_metric_mod(y_true, y_pred):\n",
    "\n",
    "    labels     = np.transpose(np.array([y_true, y_pred]))\n",
    "    labels     = labels[labels[:, 1].argsort()[::-1]]\n",
    "    weights    = np.where(labels[:,0]==0, 20, 1)\n",
    "    cut_vals   = labels[np.cumsum(weights) <= int(0.04 * np.sum(weights))]\n",
    "    top_four   = np.sum(cut_vals[:,0]) / np.sum(labels[:,0])\n",
    "\n",
    "    gini = [0,0]\n",
    "    for i in [1,0]:\n",
    "        labels         = np.transpose(np.array([y_true, y_pred]))\n",
    "        labels         = labels[labels[:, i].argsort()[::-1]]\n",
    "        weight         = np.where(labels[:,0]==0, 20, 1)\n",
    "        weight_random  = np.cumsum(weight / np.sum(weight))\n",
    "        total_pos      = np.sum(labels[:, 0] *  weight)\n",
    "        cum_pos_found  = np.cumsum(labels[:, 0] * weight)\n",
    "        lorentz        = cum_pos_found / total_pos\n",
    "        gini[i]        = np.sum((lorentz - weight_random) * weight)\n",
    "\n",
    "    return 0.5 * (gini[1]/gini[0] + top_four)"
   ]
  },
  {
   "cell_type": "markdown",
   "metadata": {},
   "source": [
    "# define training config"
   ]
  },
  {
   "cell_type": "code",
   "execution_count": null,
   "metadata": {},
   "outputs": [],
   "source": [
    "features = load(\"selected_features.pkl\")\n",
    "\n",
    "cat_features_base = [\n",
    "    \"B_30\",\n",
    "    \"B_38\",\n",
    "    \"D_114\",\n",
    "    \"D_116\",\n",
    "    \"D_117\",\n",
    "    \"D_120\",\n",
    "    \"D_126\",\n",
    "    \"D_63\",\n",
    "    \"D_64\",\n",
    "    \"D_66\",\n",
    "    \"D_68\"\n",
    "] \n",
    "cat_features = [\n",
    "    \"{}_last\".format(feature) for feature in cat_features_base\n",
    "]\n",
    "cat_features = [feature for feature in cat_features if feature in features]\n",
    "            \n",
    "target = \"target\""
   ]
  },
  {
   "cell_type": "code",
   "execution_count": null,
   "metadata": {},
   "outputs": [],
   "source": [
    "train.head()"
   ]
  },
  {
   "cell_type": "markdown",
   "metadata": {},
   "source": [
    "# split dataset"
   ]
  },
  {
   "cell_type": "code",
   "execution_count": null,
   "metadata": {},
   "outputs": [],
   "source": [
    "seed = 1024\n",
    "n_folds = 5\n",
    "target_fold = 0"
   ]
  },
  {
   "cell_type": "code",
   "execution_count": null,
   "metadata": {},
   "outputs": [],
   "source": [
    "def seed_everything(seed):\n",
    "    random.seed(seed)\n",
    "    np.random.seed(seed)\n",
    "    os.environ[\"PYTHONHASHSEED\"] = str(seed)\n",
    "    \n",
    "seed_everything(seed)"
   ]
  },
  {
   "cell_type": "code",
   "execution_count": null,
   "metadata": {},
   "outputs": [],
   "source": [
    "kfold = StratifiedKFold(\n",
    "    n_splits=n_folds, \n",
    "    shuffle=True, \n",
    "    random_state=seed\n",
    ")\n",
    "\n",
    "for fold,(trn_ind, val_ind) in enumerate(kfold.split(train, train[target])):\n",
    "    \n",
    "    if fold != target_fold:\n",
    "        continue\n",
    "\n",
    "    print(\"#\"*100)\n",
    "    print(\"Training fold {} with {} features...\".format(fold, len(features)))\n",
    "\n",
    "    x_train = train.loc[trn_ind, features]\n",
    "    y_train = train.loc[trn_ind, target]\n",
    "    x_val = train.loc[val_ind, features]\n",
    "    y_val = train.loc[val_ind, target]\n",
    "\n",
    "    # xgb_train = xgb.DeviceQuantileDMatrix(xy_train, max_bin=256)\n",
    "    xgb_train = xgb.DMatrix(data=x_train, label=y_train)\n",
    "    xgb_val = xgb.DMatrix(data=x_val, label=y_val)\n",
    "    \n",
    "del x_train, y_train, x_val, y_val\n",
    "gc.collect()"
   ]
  },
  {
   "cell_type": "code",
   "execution_count": null,
   "metadata": {},
   "outputs": [],
   "source": [
    "x_val = train.loc[val_ind, features]\n",
    "y_val = train.loc[val_ind, target]"
   ]
  },
  {
   "cell_type": "code",
   "execution_count": null,
   "metadata": {},
   "outputs": [],
   "source": [
    "space = {\n",
    "    \"max_depth\": hp.quniform(\"max_depth\", 6, 12, 1),\n",
    "    \"subsample\": hp.uniform(\"subsample\", 0.1, 0.8),\n",
    "    \"colsample_bytree\" : hp.uniform(\"colsample_bytree\", 0.1, 0.8),\n",
    "    \"gamma\": hp.uniform(\"gamma\", 0, 4),\n",
    "    \"reg_lambda\": hp.quniform(\"reg_lambda\", 1, 160, 5),\n",
    "    \"min_child_weight\" : hp.quniform(\"min_child_weight\", 0, 10, 1),\n",
    "    \"num_parallel_tree\":  hp.quniform(\"num_parallel_tree\", 5, 10, 1),\n",
    "}"
   ]
  },
  {
   "cell_type": "code",
   "execution_count": null,
   "metadata": {},
   "outputs": [],
   "source": [
    "def objective(space):\n",
    "    \n",
    "    xgb_parms = { \n",
    "        \"max_depth\": int(space[\"max_depth\"]), \n",
    "        \"learning_rate\": 0.01, \n",
    "        \"subsample\": space[\"subsample\"],\n",
    "        \"colsample_bytree\": space[\"colsample_bytree\"], \n",
    "        \"gamma\": space[\"gamma\"],\n",
    "        \"reg_lambda\": int(space[\"reg_lambda\"]),\n",
    "        \"min_child_weight\": int(space[\"min_child_weight\"]),\n",
    "        \"num_parallel_tree\": int(space[\"num_parallel_tree\"]),\n",
    "        \"eval_metric\": \"logloss\",\n",
    "        \"objective\": \"binary:logistic\",\n",
    "        \"tree_method\":\"gpu_hist\",\n",
    "        \"gpu_id\": 1,\n",
    "        \"predictor\": \"gpu_predictor\",\n",
    "        \"random_state\": seed\n",
    "    }\n",
    "    \n",
    "    print(\"max_depth: {}\".format(int(space[\"max_depth\"])))\n",
    "    print(\"subsample: {}\".format(space[\"subsample\"]))\n",
    "    print(\"colsample_bytree: {}\".format(space[\"colsample_bytree\"]))\n",
    "    print(\"gamma: {}\".format(int(space[\"gamma\"])))\n",
    "    print(\"reg_lambda: {}\".format(int(space[\"reg_lambda\"])))\n",
    "    print(\"min_child_weight: {}\".format(int(space[\"min_child_weight\"])))\n",
    "    print(\"num_parallel_tree: {}\".format(int(space[\"num_parallel_tree\"])))\n",
    "    \n",
    "    model = xgb.train(\n",
    "        xgb_parms, \n",
    "        dtrain=xgb_train,\n",
    "        evals=[(xgb_train,\"train\"),(xgb_val,\"valid\")],\n",
    "        num_boost_round=12000,\n",
    "        early_stopping_rounds=100,\n",
    "        verbose_eval=100\n",
    "    ) \n",
    "    \n",
    "\n",
    "    pred = model.predict(x_val)\n",
    "    score = amex_metric_mod(y_val.values, pred)\n",
    "    print(\"score is {}\".format(score))\n",
    "    \n",
    "    return {\"loss\": -score, \"status\": STATUS_OK }"
   ]
  },
  {
   "cell_type": "code",
   "execution_count": null,
   "metadata": {},
   "outputs": [],
   "source": [
    "trials = Trials()\n",
    "\n",
    "best_hyperparams = fmin(\n",
    "    fn = objective,\n",
    "    space = space,\n",
    "    algo = tpe.suggest,\n",
    "    max_evals = 100,\n",
    "    trials = trials\n",
    ")"
   ]
  },
  {
   "cell_type": "code",
   "execution_count": null,
   "metadata": {},
   "outputs": [],
   "source": [
    "print(\"The best hyperparameters are : \",\"\\n\")\n",
    "print(best_hyperparams)"
   ]
  }
 ],
 "metadata": {
  "kernelspec": {
   "display_name": "trade",
   "language": "python",
   "name": "trade"
  },
  "language_info": {
   "codemirror_mode": {
    "name": "ipython",
    "version": 3
   },
   "file_extension": ".py",
   "mimetype": "text/x-python",
   "name": "python",
   "nbconvert_exporter": "python",
   "pygments_lexer": "ipython3",
   "version": "3.8.13"
  }
 },
 "nbformat": 4,
 "nbformat_minor": 5
}
