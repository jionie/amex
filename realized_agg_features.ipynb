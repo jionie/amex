{
 "cells": [
  {
   "cell_type": "code",
   "execution_count": 1,
   "metadata": {},
   "outputs": [],
   "source": [
    "import os\n",
    "import numpy as np\n",
    "import pandas as pd\n",
    "from tqdm import tqdm\n",
    "from joblib import load, dump"
   ]
  },
  {
   "cell_type": "markdown",
   "metadata": {},
   "source": [
    "# load files"
   ]
  },
  {
   "cell_type": "code",
   "execution_count": 2,
   "metadata": {},
   "outputs": [],
   "source": [
    "mode = \"train\""
   ]
  },
  {
   "cell_type": "code",
   "execution_count": 3,
   "metadata": {},
   "outputs": [],
   "source": [
    "# train of test\n",
    "df = pd.read_parquet(\"../input/amex-data-integer-dtypes-parquet-format/{}_shifted_rounded.parquet\".format(mode))"
   ]
  },
  {
   "cell_type": "code",
   "execution_count": 4,
   "metadata": {},
   "outputs": [],
   "source": [
    "all_cols = [c for c in list(df.columns) if c not in [\"customer_ID\", \"S_2\", \"first_occurance\", \"time_id\", \"end_year_month\"]]\n",
    "nan_related_features = [\n",
    "    \"number_of_observations\",\n",
    "    \"type_0_nan\",\n",
    "    \"type_1_nan\",\n",
    "    \"type_2_nan\"\n",
    "]\n",
    "cat_features = [\n",
    "    \"B_30\",\n",
    "    \"B_38\",\n",
    "    \"D_114\",\n",
    "    \"D_116\",\n",
    "    \"D_117\",\n",
    "    \"D_120\",\n",
    "    \"D_126\",\n",
    "    \"D_63\",\n",
    "    \"D_64\",\n",
    "    \"D_66\",\n",
    "    \"D_68\"\n",
    "]\n",
    "num_features = [col for col in all_cols if col not in (cat_features + nan_related_features)]"
   ]
  },
  {
   "cell_type": "markdown",
   "metadata": {},
   "source": [
    "# realized features"
   ]
  },
  {
   "cell_type": "code",
   "execution_count": 5,
   "metadata": {},
   "outputs": [],
   "source": [
    "def realized_volatility(series):\n",
    "    return np.sqrt(np.sum(series**2))\n",
    "\n",
    "def realized_abs_skew(series):\n",
    "    return np.power(np.abs(np.sum(series**3)),1/3)\n",
    "\n",
    "def realized_skew(series):\n",
    "    return np.sign(np.sum(series**3))*np.power(np.abs(np.sum(series**3)),1/3)\n",
    "\n",
    "def realized_vol_skew(series):\n",
    "    return np.power(np.abs(np.sum(series**6)),1/6)\n",
    "\n",
    "def realized_quarticity(series):\n",
    "    return np.power(np.sum(series**4),1/4)"
   ]
  },
  {
   "cell_type": "code",
   "execution_count": 6,
   "metadata": {},
   "outputs": [
    {
     "name": "stderr",
     "output_type": "stream",
     "text": [
      "/tmp/ipykernel_19706/4102019387.py:2: RuntimeWarning: invalid value encountered in sqrt\n",
      "  return np.sqrt(np.sum(series**2))\n"
     ]
    }
   ],
   "source": [
    "realized_volatility_agg_features = df.groupby(\"customer_ID\")[num_features].agg(realized_volatility)\n",
    "realized_volatility_agg_features.columns = [(x + \"_realized_volatility\") for x in realized_volatility_agg_features.columns]"
   ]
  },
  {
   "cell_type": "code",
   "execution_count": 23,
   "metadata": {},
   "outputs": [],
   "source": [
    "realized_volatility_agg_features.to_parquet(\"../input/{}_realized_volatility_agg_features.parquet\".format(mode))"
   ]
  },
  {
   "cell_type": "code",
   "execution_count": null,
   "metadata": {},
   "outputs": [],
   "source": [
    "realized_abs_skew_agg_features = df.groupby(\"customer_ID\")[num_features].agg(realized_abs_skew)\n",
    "realized_abs_skew_agg_features.columns = [(x + \"_realized_abs_skew\") for x in realized_abs_skew_agg_features.columns]"
   ]
  },
  {
   "cell_type": "code",
   "execution_count": null,
   "metadata": {},
   "outputs": [],
   "source": [
    "realized_abs_skew_agg_features.to_parquet(\"../input/{}_realized_abs_skew_agg_features.parquet\".format(mode))"
   ]
  },
  {
   "cell_type": "code",
   "execution_count": null,
   "metadata": {},
   "outputs": [],
   "source": [
    "realized_skew_agg_features = df.groupby(\"customer_ID\")[num_features].agg(realized_skew)\n",
    "realized_skew_agg_features.columns = [(x + \"_realized_skew\") for x in realized_skew_agg_features.columns]"
   ]
  },
  {
   "cell_type": "code",
   "execution_count": null,
   "metadata": {},
   "outputs": [],
   "source": [
    "realized_skew_agg_features.to_parquet(\"../input/{}_realized_skew_agg_features.parquet\".format(mode))"
   ]
  },
  {
   "cell_type": "code",
   "execution_count": null,
   "metadata": {},
   "outputs": [],
   "source": [
    "realized_vol_skew_agg_features = df.groupby(\"customer_ID\")[num_features].agg(realized_vol_skew)\n",
    "realized_vol_skew_agg_features.columns = [(x + \"_realized_vol_skew\") for x in realized_vol_skew_agg_features.columns]"
   ]
  },
  {
   "cell_type": "code",
   "execution_count": null,
   "metadata": {},
   "outputs": [],
   "source": [
    "realized_vol_skew_agg_features.to_parquet(\"../input/{}_realized_vol_skew_agg_features.parquet\".format(mode))"
   ]
  },
  {
   "cell_type": "code",
   "execution_count": null,
   "metadata": {},
   "outputs": [],
   "source": [
    "realized_quarticity_agg_features = df.groupby(\"customer_ID\")[num_features].agg(realized_quarticity)\n",
    "realized_quarticity_agg_features.columns = [(x + \"_realized_quarticity\") for x in realized_quarticity_agg_features.columns]"
   ]
  },
  {
   "cell_type": "code",
   "execution_count": null,
   "metadata": {},
   "outputs": [],
   "source": [
    "realized_quarticity_agg_features.to_parquet(\"../input/{}_realized_quarticity_agg_features.parquet\".format(mode))"
   ]
  }
 ],
 "metadata": {
  "kernelspec": {
   "display_name": "trade",
   "language": "python",
   "name": "trade"
  },
  "language_info": {
   "codemirror_mode": {
    "name": "ipython",
    "version": 3
   },
   "file_extension": ".py",
   "mimetype": "text/x-python",
   "name": "python",
   "nbconvert_exporter": "python",
   "pygments_lexer": "ipython3",
   "version": "3.8.13"
  }
 },
 "nbformat": 4,
 "nbformat_minor": 4
}
