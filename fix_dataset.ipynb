{
 "cells": [
  {
   "cell_type": "code",
   "execution_count": 2,
   "metadata": {},
   "outputs": [],
   "source": [
    "import os\n",
    "import gc\n",
    "from joblib import dump, load, Parallel, delayed\n",
    "import pandas as pd\n",
    "import numpy as np\n",
    "import random\n",
    "import matplotlib.pyplot as plt\n",
    "from tqdm import tqdm\n",
    "from sklearn.model_selection import StratifiedKFold\n",
    "import xgboost as xgb"
   ]
  },
  {
   "cell_type": "code",
   "execution_count": 3,
   "metadata": {},
   "outputs": [],
   "source": [
    "mode = \"train\""
   ]
  },
  {
   "cell_type": "code",
   "execution_count": 4,
   "metadata": {},
   "outputs": [],
   "source": [
    "df = pd.read_parquet(\"../input/{}_full_features.parquet\".format(mode))"
   ]
  },
  {
   "cell_type": "code",
   "execution_count": 6,
   "metadata": {},
   "outputs": [],
   "source": [
    "exclude_features = []\n",
    "\n",
    "exclude_features += [\n",
    "    \"customer_ID\", \n",
    "    \"target\",\n",
    "]\n",
    "\n",
    "features = [col for col in df.columns if col not in exclude_features]\n",
    "\n",
    "cat_features_base = [\n",
    "    \"B_30\",\n",
    "    \"B_38\",\n",
    "    \"D_114\",\n",
    "    \"D_116\",\n",
    "    \"D_117\",\n",
    "    \"D_120\",\n",
    "    \"D_126\",\n",
    "    \"D_63\",\n",
    "    \"D_64\",\n",
    "    \"D_66\",\n",
    "    \"D_68\"\n",
    "] \n",
    "cat_features = []\n",
    "for feature in features:\n",
    "    for cat_feature_base in cat_features_base:\n",
    "        if cat_feature_base in feature:\n",
    "            cat_features.append(feature)\n",
    "            \n",
    "target = \"target\""
   ]
  },
  {
   "cell_type": "code",
   "execution_count": 7,
   "metadata": {},
   "outputs": [],
   "source": [
    "base_stat_agg_group_1_to_del = load(\"base_stat_agg_group_1_to_del.pkl\")[0]\n",
    "base_stat_agg_group_2_to_del = load(\"base_stat_agg_group_2_to_del.pkl\")[0]\n",
    "base_stat_agg_to_del = base_stat_agg_group_1_to_del + base_stat_agg_group_2_to_del\n",
    "\n",
    "sma_agg_to_del = load(\"sma_agg_to_del.pkl\")[0]\n",
    "\n",
    "# quantile_agg_to_del = load(\"quantile_agg_to_del.pkl\")[0]\n",
    "quantile_agg_to_del = [feature for feature in features if \"quantile\" in feature]\n",
    "\n",
    "# skew_kurtosis_agg_to_del = load(\"skew_kurtosis_agg_to_del.pkl\")[0]\n",
    "skew_kurtosis_agg_to_del = [feature for feature in features if \"skew\" in feature and \"realized\" not in feature] + \\\n",
    "    [feature for feature in features if \"kurtosis\" in feature]\n",
    "\n",
    "mean_diff_max_drawdown_agg_to_del = load(\"mean_diff_max_drawdown_agg_to_del.pkl\")[0]\n",
    "\n",
    "# realized_volatility_abs_skew_agg_to_del = load(\"realized_volatility_abs_skew_agg_to_del.pkl\")[0]\n",
    "realized_volatility_abs_skew_agg_to_del = [feature for feature in features if \"realized_volatility\" in feature] + \\\n",
    "    [feature for feature in features if \"realized_abs_skew\" in feature]\n",
    "\n",
    "features = [feature for feature in features if feature not in (\n",
    "    base_stat_agg_to_del + \\\n",
    "    sma_agg_to_del + \\\n",
    "    quantile_agg_to_del + \\\n",
    "    skew_kurtosis_agg_to_del + \\\n",
    "    mean_diff_max_drawdown_agg_to_del + \\\n",
    "    realized_volatility_abs_skew_agg_to_del\n",
    ")]"
   ]
  },
  {
   "cell_type": "code",
   "execution_count": 8,
   "metadata": {},
   "outputs": [
    {
     "data": {
      "text/plain": [
       "1065"
      ]
     },
     "execution_count": 8,
     "metadata": {},
     "output_type": "execute_result"
    }
   ],
   "source": [
    "len(features)"
   ]
  },
  {
   "cell_type": "code",
   "execution_count": 9,
   "metadata": {},
   "outputs": [],
   "source": [
    "if mode == \"train\":\n",
    "    all_columns = [\"customer_ID\"] + features + [\"target\"]\n",
    "else:\n",
    "    all_columns = [\"customer_ID\"] + feature"
   ]
  },
  {
   "cell_type": "code",
   "execution_count": 10,
   "metadata": {},
   "outputs": [],
   "source": [
    "df = df[all_columns]"
   ]
  },
  {
   "cell_type": "code",
   "execution_count": 11,
   "metadata": {},
   "outputs": [],
   "source": [
    "df.to_parquet(\"../input/{}_final_features.parquet\".format(mode))"
   ]
  }
 ],
 "metadata": {
  "kernelspec": {
   "display_name": "trade",
   "language": "python",
   "name": "trade"
  },
  "language_info": {
   "codemirror_mode": {
    "name": "ipython",
    "version": 3
   },
   "file_extension": ".py",
   "mimetype": "text/x-python",
   "name": "python",
   "nbconvert_exporter": "python",
   "pygments_lexer": "ipython3",
   "version": "3.8.13"
  }
 },
 "nbformat": 4,
 "nbformat_minor": 4
}
