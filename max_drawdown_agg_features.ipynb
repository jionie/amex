{
 "cells": [
  {
   "cell_type": "code",
   "execution_count": 1,
   "metadata": {},
   "outputs": [],
   "source": [
    "import os\n",
    "import numpy as np\n",
    "import pandas as pd\n",
    "from tqdm import tqdm\n",
    "from joblib import load, dump"
   ]
  },
  {
   "cell_type": "markdown",
   "metadata": {},
   "source": [
    "# load files"
   ]
  },
  {
   "cell_type": "code",
   "execution_count": 2,
   "metadata": {},
   "outputs": [],
   "source": [
    "mode = \"test\""
   ]
  },
  {
   "cell_type": "code",
   "execution_count": 3,
   "metadata": {},
   "outputs": [],
   "source": [
    "# train of test\n",
    "df = pd.read_parquet(\"../input/amex-data-integer-dtypes-parquet-format/{}_shifted_rounded.parquet\".format(mode))"
   ]
  },
  {
   "cell_type": "code",
   "execution_count": 4,
   "metadata": {},
   "outputs": [],
   "source": [
    "all_cols = [c for c in list(df.columns) if c not in [\"customer_ID\", \"S_2\", \"first_occurance\", \"time_id\", \"end_year_month\"]]\n",
    "nan_related_features = [\n",
    "    \"number_of_observations\",\n",
    "    \"type_0_nan\",\n",
    "    \"type_1_nan\",\n",
    "    \"type_2_nan\"\n",
    "]\n",
    "cat_features = [\n",
    "    \"B_30\",\n",
    "    \"B_38\",\n",
    "    \"D_114\",\n",
    "    \"D_116\",\n",
    "    \"D_117\",\n",
    "    \"D_120\",\n",
    "    \"D_126\",\n",
    "    \"D_63\",\n",
    "    \"D_64\",\n",
    "    \"D_66\",\n",
    "    \"D_68\"\n",
    "]\n",
    "num_features = [col for col in all_cols if col not in (cat_features + nan_related_features)]"
   ]
  },
  {
   "cell_type": "markdown",
   "metadata": {},
   "source": [
    "# max drawdown"
   ]
  },
  {
   "cell_type": "code",
   "execution_count": 5,
   "metadata": {},
   "outputs": [],
   "source": [
    "def max_drawdown(series):\n",
    "    series = np.asarray(series)\n",
    "    if len(series)<2:\n",
    "        return 0\n",
    "    k = series[np.argmax(np.maximum.accumulate(series) - series)]\n",
    "    i = np.argmax(np.maximum.accumulate(series) - series)\n",
    "    if len(series[:i])<1:\n",
    "        return np.NaN\n",
    "    else:\n",
    "        j = np.max(series[:i])\n",
    "    return j-k\n",
    "\n",
    "def max_drawup(series):\n",
    "    series = np.asarray(series)\n",
    "    if len(series)<2:\n",
    "        return 0\n",
    "\n",
    "    series = - series\n",
    "    k = series[np.argmax(np.maximum.accumulate(series) - series)]\n",
    "    i = np.argmax(np.maximum.accumulate(series) - series)\n",
    "    if len(series[:i])<1:\n",
    "        return np.NaN\n",
    "    else:\n",
    "        j = np.max(series[:i])\n",
    "    return j-k\n",
    "\n",
    "def drawdown_duration(series):\n",
    "    series = np.asarray(series)\n",
    "    if len(series)<2:\n",
    "        return 0\n",
    "\n",
    "    k = np.argmax(np.maximum.accumulate(series) - series)\n",
    "    i = np.argmax(np.maximum.accumulate(series) - series)\n",
    "    if len(series[:i]) == 0:\n",
    "        j=k\n",
    "    else:\n",
    "        j = np.argmax(series[:i])\n",
    "    return k-j\n",
    "\n",
    "def drawup_duration(series):\n",
    "    series = np.asarray(series)\n",
    "    if len(series)<2:\n",
    "        return 0\n",
    "\n",
    "    series=-series\n",
    "    k = np.argmax(np.maximum.accumulate(series) - series)\n",
    "    i = np.argmax(np.maximum.accumulate(series) - series)\n",
    "    if len(series[:i]) == 0:\n",
    "        j=k\n",
    "    else:\n",
    "        j = np.argmax(series[:i])\n",
    "    return k-j"
   ]
  },
  {
   "cell_type": "code",
   "execution_count": null,
   "metadata": {},
   "outputs": [],
   "source": [
    "max_drawdown_agg_features = df.groupby(\"customer_ID\")[num_features].agg(max_drawdown)\n",
    "max_drawdown_agg_features.columns = [(x + \"_max_drawdown\") for x in max_drawdown_agg_features.columns]"
   ]
  },
  {
   "cell_type": "code",
   "execution_count": null,
   "metadata": {},
   "outputs": [],
   "source": [
    "max_drawdown_agg_features.head()"
   ]
  },
  {
   "cell_type": "code",
   "execution_count": null,
   "metadata": {},
   "outputs": [],
   "source": [
    "max_drawdown_agg_features.to_parquet(\"../input/{}_max_drawdown_agg_features.parquet\".format(mode))"
   ]
  },
  {
   "cell_type": "code",
   "execution_count": null,
   "metadata": {},
   "outputs": [],
   "source": [
    "max_drawup_agg_features = df.groupby(\"customer_ID\")[num_features].agg(max_drawup)\n",
    "max_drawup_agg_features.columns = [(x + \"_max_drawup\") for x in max_drawup_agg_features.columns]"
   ]
  },
  {
   "cell_type": "code",
   "execution_count": null,
   "metadata": {},
   "outputs": [],
   "source": [
    "max_drawup_agg_features.head()"
   ]
  },
  {
   "cell_type": "code",
   "execution_count": null,
   "metadata": {},
   "outputs": [],
   "source": [
    "max_drawup_agg_features.to_parquet(\"../input/{}_max_drawup_agg_features.parquet\".format(mode))"
   ]
  },
  {
   "cell_type": "code",
   "execution_count": null,
   "metadata": {},
   "outputs": [],
   "source": [
    "drawdown_duration_agg_features = df.groupby(\"customer_ID\")[num_features].agg(drawdown_duration)\n",
    "drawdown_duration_agg_features.columns = [(x + \"_drawdown_duration\") for x in drawdown_duration_agg_features.columns]"
   ]
  },
  {
   "cell_type": "code",
   "execution_count": null,
   "metadata": {},
   "outputs": [],
   "source": [
    "drawdown_duration_agg_features.head()"
   ]
  },
  {
   "cell_type": "code",
   "execution_count": null,
   "metadata": {},
   "outputs": [],
   "source": [
    "drawdown_duration_agg_features.to_parquet(\"../input/{}_drawdown_duration_agg_features.parquet\".format(mode))"
   ]
  },
  {
   "cell_type": "code",
   "execution_count": null,
   "metadata": {},
   "outputs": [],
   "source": [
    "drawup_duration_agg_features = df.groupby(\"customer_ID\")[num_features].agg(drawup_duration)\n",
    "drawup_duration_agg_features.columns = [(x + \"_drawup_duration\") for x in drawup_duration_agg_features.columns]"
   ]
  },
  {
   "cell_type": "code",
   "execution_count": null,
   "metadata": {},
   "outputs": [],
   "source": [
    "drawup_duration_agg_features.head()"
   ]
  },
  {
   "cell_type": "code",
   "execution_count": null,
   "metadata": {},
   "outputs": [],
   "source": [
    "drawup_duration_agg_features.to_parquet(\"../input/{}_drawup_duration_agg_features.parquet\".format(mode))"
   ]
  }
 ],
 "metadata": {
  "kernelspec": {
   "display_name": "trade",
   "language": "python",
   "name": "trade"
  },
  "language_info": {
   "codemirror_mode": {
    "name": "ipython",
    "version": 3
   },
   "file_extension": ".py",
   "mimetype": "text/x-python",
   "name": "python",
   "nbconvert_exporter": "python",
   "pygments_lexer": "ipython3",
   "version": "3.8.13"
  }
 },
 "nbformat": 4,
 "nbformat_minor": 4
}
