{
 "cells": [
  {
   "cell_type": "code",
   "execution_count": 1,
   "metadata": {},
   "outputs": [],
   "source": [
    "import os\n",
    "import numpy as np\n",
    "import pandas as pd\n",
    "from tqdm import tqdm\n",
    "from joblib import load, dump"
   ]
  },
  {
   "cell_type": "markdown",
   "metadata": {},
   "source": [
    "# load files"
   ]
  },
  {
   "cell_type": "code",
   "execution_count": 2,
   "metadata": {},
   "outputs": [],
   "source": [
    "mode = \"train\""
   ]
  },
  {
   "cell_type": "code",
   "execution_count": 3,
   "metadata": {},
   "outputs": [],
   "source": [
    "# train of test\n",
    "df = pd.read_parquet(\"../input/amex-data-integer-dtypes-parquet-format/{}_shifted_rounded.parquet\".format(mode))"
   ]
  },
  {
   "cell_type": "code",
   "execution_count": 4,
   "metadata": {},
   "outputs": [],
   "source": [
    "all_cols = [c for c in list(df.columns) if c not in [\"customer_ID\", \"S_2\", \"first_occurance\", \"time_id\", \"end_year_month\"]]\n",
    "nan_related_features = [\n",
    "    \"number_of_observations\",\n",
    "    \"type_0_nan\",\n",
    "    \"type_1_nan\",\n",
    "    \"type_2_nan\"\n",
    "]\n",
    "cat_features = [\n",
    "    \"B_30\",\n",
    "    \"B_38\",\n",
    "    \"D_114\",\n",
    "    \"D_116\",\n",
    "    \"D_117\",\n",
    "    \"D_120\",\n",
    "    \"D_126\",\n",
    "    \"D_63\",\n",
    "    \"D_64\",\n",
    "    \"D_66\",\n",
    "    \"D_68\"\n",
    "]\n",
    "num_features = [col for col in all_cols if col not in (cat_features + nan_related_features)]"
   ]
  },
  {
   "cell_type": "markdown",
   "metadata": {},
   "source": [
    "# base stat"
   ]
  },
  {
   "cell_type": "code",
   "execution_count": 5,
   "metadata": {},
   "outputs": [],
   "source": [
    "base_stat_agg_features = df.groupby(\"customer_ID\")[num_features].agg([ \n",
    "    \"mean\",\n",
    "    \"std\", \n",
    "    \"min\", \n",
    "    \"max\",\n",
    "    \"count\",\n",
    "    \"last\"\n",
    "])\n",
    "\n",
    "base_stat_agg_features.columns = [\"_\".join(x) for x in base_stat_agg_features.columns]"
   ]
  },
  {
   "cell_type": "code",
   "execution_count": 6,
   "metadata": {},
   "outputs": [],
   "source": [
    "def count_unique(series):\n",
    "    return len(np.unique(series))\n",
    "\n",
    "def count_duplicate_max(x):\n",
    "    return np.sum(x == np.max(x))\n",
    "\n",
    "def max_over_min(series):\n",
    "    if len(series) < 2:\n",
    "        return 0\n",
    "    if np.min(series) == 0:\n",
    "        return np.nan\n",
    "    return np.max(series)/np.min(series)"
   ]
  },
  {
   "cell_type": "code",
   "execution_count": 7,
   "metadata": {},
   "outputs": [],
   "source": [
    "count_unique_agg_features = df.groupby(\"customer_ID\")[num_features].agg(count_unique)\n",
    "count_unique_agg_features.columns = [(x + \"_count_unique\") for x in count_unique_agg_features.columns]"
   ]
  },
  {
   "cell_type": "code",
   "execution_count": null,
   "metadata": {},
   "outputs": [],
   "source": [
    "count_duplicate_max_agg_features = df.groupby(\"customer_ID\")[num_features].agg(count_duplicate_max)\n",
    "count_duplicate_max_agg_features.columns = [(x + \"_count_duplicate_max\") for x in count_duplicate_max_agg_features.columns]"
   ]
  },
  {
   "cell_type": "code",
   "execution_count": null,
   "metadata": {},
   "outputs": [],
   "source": [
    "max_over_min_agg_features = df.groupby(\"customer_ID\")[num_features].agg(max_over_min)\n",
    "max_over_min_agg_features.columns = [(x + \"_max_over_min\") for x in max_over_min_agg_features.columns]"
   ]
  },
  {
   "cell_type": "code",
   "execution_count": null,
   "metadata": {},
   "outputs": [],
   "source": [
    "base_stat_agg_features = pd.concat([\n",
    "    base_stat_agg_features, \n",
    "    count_unique_agg_features, \n",
    "    count_duplicate_max_agg_features,\n",
    "    max_over_min_agg_features\n",
    "], axis=1)"
   ]
  },
  {
   "cell_type": "code",
   "execution_count": null,
   "metadata": {},
   "outputs": [],
   "source": [
    "base_stat_agg_features.head()"
   ]
  },
  {
   "cell_type": "code",
   "execution_count": null,
   "metadata": {},
   "outputs": [],
   "source": [
    "base_stat_agg_features.to_parquet(\"../input/{}_base_stat_agg_features.parquet\".format(mode))"
   ]
  },
  {
   "cell_type": "code",
   "execution_count": null,
   "metadata": {},
   "outputs": [],
   "source": [
    "mode"
   ]
  },
  {
   "cell_type": "code",
   "execution_count": null,
   "metadata": {},
   "outputs": [],
   "source": []
  }
 ],
 "metadata": {
  "kernelspec": {
   "display_name": "trade",
   "language": "python",
   "name": "trade"
  },
  "language_info": {
   "codemirror_mode": {
    "name": "ipython",
    "version": 3
   },
   "file_extension": ".py",
   "mimetype": "text/x-python",
   "name": "python",
   "nbconvert_exporter": "python",
   "pygments_lexer": "ipython3",
   "version": "3.8.11"
  }
 },
 "nbformat": 4,
 "nbformat_minor": 4
}
