{
 "cells": [
  {
   "cell_type": "code",
   "execution_count": 1,
   "metadata": {},
   "outputs": [],
   "source": [
    "import os\n",
    "import numpy as np\n",
    "import pandas as pd\n",
    "from tqdm import tqdm\n",
    "from sklearn.preprocessing import LabelEncoder\n",
    "from joblib import load, dump"
   ]
  },
  {
   "cell_type": "markdown",
   "metadata": {},
   "source": [
    "# load files"
   ]
  },
  {
   "cell_type": "code",
   "execution_count": 2,
   "metadata": {},
   "outputs": [],
   "source": [
    "mode = \"train\""
   ]
  },
  {
   "cell_type": "code",
   "execution_count": 3,
   "metadata": {},
   "outputs": [],
   "source": [
    "cat_agg_features = pd.read_parquet(\"../input/{}_cat_agg_features.parquet\".format(mode))"
   ]
  },
  {
   "cell_type": "code",
   "execution_count": 4,
   "metadata": {},
   "outputs": [],
   "source": [
    "basic_agg_features = pd.read_parquet(\"../input/{}_basic_agg_features.parquet\".format(mode))"
   ]
  },
  {
   "cell_type": "code",
   "execution_count": 5,
   "metadata": {},
   "outputs": [],
   "source": [
    "count_agg_features = pd.read_parquet(\"../input/{}_count_agg_features.parquet\".format(mode))"
   ]
  },
  {
   "cell_type": "code",
   "execution_count": 6,
   "metadata": {},
   "outputs": [],
   "source": [
    "sma_agg_features = pd.read_parquet(\"../input/{}_sma_agg_features.parquet\".format(mode))"
   ]
  },
  {
   "cell_type": "code",
   "execution_count": 7,
   "metadata": {},
   "outputs": [],
   "source": [
    "mean_diff_agg_features = pd.read_parquet(\"../input/{}_mean_diff_agg_features.parquet\".format(mode))"
   ]
  },
  {
   "cell_type": "code",
   "execution_count": 8,
   "metadata": {},
   "outputs": [],
   "source": [
    "std_diff_agg_features = pd.read_parquet(\"../input/{}_std_diff_agg_features.parquet\".format(mode))"
   ]
  },
  {
   "cell_type": "code",
   "execution_count": 9,
   "metadata": {},
   "outputs": [],
   "source": [
    "max_drawdown_agg_features = pd.read_parquet(\"../input/{}_max_drawdown_agg_features.parquet\".format(mode))"
   ]
  },
  {
   "cell_type": "code",
   "execution_count": 10,
   "metadata": {},
   "outputs": [],
   "source": [
    "max_drawup_agg_features = pd.read_parquet(\"../input/{}_max_drawup_agg_features.parquet\".format(mode))"
   ]
  },
  {
   "cell_type": "code",
   "execution_count": 11,
   "metadata": {},
   "outputs": [],
   "source": [
    "drawdown_duration_agg_features = pd.read_parquet(\"../input/{}_drawdown_duration_agg_features.parquet\".format(mode))"
   ]
  },
  {
   "cell_type": "code",
   "execution_count": 12,
   "metadata": {},
   "outputs": [],
   "source": [
    "drawup_duration_agg_features = pd.read_parquet(\"../input/{}_drawup_duration_agg_features.parquet\".format(mode))"
   ]
  },
  {
   "cell_type": "code",
   "execution_count": 13,
   "metadata": {},
   "outputs": [],
   "source": [
    "full_agg_features = pd.concat([\n",
    "    cat_agg_features, \n",
    "    basic_agg_features,\n",
    "    count_agg_features,\n",
    "    sma_agg_features,\n",
    "    mean_diff_agg_features,\n",
    "    std_diff_agg_features,\n",
    "    max_drawup_agg_features,\n",
    "    max_drawdown_agg_features,\n",
    "    drawdown_duration_agg_features,\n",
    "    drawup_duration_agg_features\n",
    "], axis=1)"
   ]
  },
  {
   "cell_type": "code",
   "execution_count": 14,
   "metadata": {},
   "outputs": [
    {
     "data": {
      "text/plain": [
       "(458913, 3396)"
      ]
     },
     "execution_count": 14,
     "metadata": {},
     "output_type": "execute_result"
    }
   ],
   "source": [
    "full_agg_features.shape"
   ]
  },
  {
   "cell_type": "code",
   "execution_count": 15,
   "metadata": {},
   "outputs": [
    {
     "data": {
      "text/html": [
       "<div>\n",
       "<style scoped>\n",
       "    .dataframe tbody tr th:only-of-type {\n",
       "        vertical-align: middle;\n",
       "    }\n",
       "\n",
       "    .dataframe tbody tr th {\n",
       "        vertical-align: top;\n",
       "    }\n",
       "\n",
       "    .dataframe thead th {\n",
       "        text-align: right;\n",
       "    }\n",
       "</style>\n",
       "<table border=\"1\" class=\"dataframe\">\n",
       "  <thead>\n",
       "    <tr style=\"text-align: right;\">\n",
       "      <th></th>\n",
       "      <th>B_30_count</th>\n",
       "      <th>B_30_last</th>\n",
       "      <th>B_30_nunique</th>\n",
       "      <th>B_38_count</th>\n",
       "      <th>B_38_last</th>\n",
       "      <th>B_38_nunique</th>\n",
       "      <th>D_114_count</th>\n",
       "      <th>D_114_last</th>\n",
       "      <th>D_114_nunique</th>\n",
       "      <th>D_116_count</th>\n",
       "      <th>...</th>\n",
       "      <th>D_136_drawup_duration</th>\n",
       "      <th>D_137_drawup_duration</th>\n",
       "      <th>D_138_drawup_duration</th>\n",
       "      <th>D_139_drawup_duration</th>\n",
       "      <th>D_140_drawup_duration</th>\n",
       "      <th>D_141_drawup_duration</th>\n",
       "      <th>D_142_drawup_duration</th>\n",
       "      <th>D_143_drawup_duration</th>\n",
       "      <th>D_144_drawup_duration</th>\n",
       "      <th>D_145_drawup_duration</th>\n",
       "    </tr>\n",
       "    <tr>\n",
       "      <th>customer_ID</th>\n",
       "      <th></th>\n",
       "      <th></th>\n",
       "      <th></th>\n",
       "      <th></th>\n",
       "      <th></th>\n",
       "      <th></th>\n",
       "      <th></th>\n",
       "      <th></th>\n",
       "      <th></th>\n",
       "      <th></th>\n",
       "      <th></th>\n",
       "      <th></th>\n",
       "      <th></th>\n",
       "      <th></th>\n",
       "      <th></th>\n",
       "      <th></th>\n",
       "      <th></th>\n",
       "      <th></th>\n",
       "      <th></th>\n",
       "      <th></th>\n",
       "      <th></th>\n",
       "    </tr>\n",
       "  </thead>\n",
       "  <tbody>\n",
       "    <tr>\n",
       "      <th>-9223358381327749917</th>\n",
       "      <td>13</td>\n",
       "      <td>0.0</td>\n",
       "      <td>2</td>\n",
       "      <td>13</td>\n",
       "      <td>7.0</td>\n",
       "      <td>3</td>\n",
       "      <td>13</td>\n",
       "      <td>1.0</td>\n",
       "      <td>1</td>\n",
       "      <td>13</td>\n",
       "      <td>...</td>\n",
       "      <td>0.0</td>\n",
       "      <td>0.0</td>\n",
       "      <td>0.0</td>\n",
       "      <td>0.0</td>\n",
       "      <td>0.0</td>\n",
       "      <td>0.0</td>\n",
       "      <td>0.0</td>\n",
       "      <td>0.0</td>\n",
       "      <td>3.0</td>\n",
       "      <td>0.0</td>\n",
       "    </tr>\n",
       "    <tr>\n",
       "      <th>-9223193039457028513</th>\n",
       "      <td>13</td>\n",
       "      <td>0.0</td>\n",
       "      <td>1</td>\n",
       "      <td>13</td>\n",
       "      <td>1.0</td>\n",
       "      <td>1</td>\n",
       "      <td>13</td>\n",
       "      <td>1.0</td>\n",
       "      <td>1</td>\n",
       "      <td>13</td>\n",
       "      <td>...</td>\n",
       "      <td>0.0</td>\n",
       "      <td>0.0</td>\n",
       "      <td>0.0</td>\n",
       "      <td>0.0</td>\n",
       "      <td>0.0</td>\n",
       "      <td>0.0</td>\n",
       "      <td>0.0</td>\n",
       "      <td>0.0</td>\n",
       "      <td>1.0</td>\n",
       "      <td>0.0</td>\n",
       "    </tr>\n",
       "    <tr>\n",
       "      <th>-9223189665817919541</th>\n",
       "      <td>13</td>\n",
       "      <td>0.0</td>\n",
       "      <td>1</td>\n",
       "      <td>13</td>\n",
       "      <td>1.0</td>\n",
       "      <td>1</td>\n",
       "      <td>13</td>\n",
       "      <td>0.0</td>\n",
       "      <td>1</td>\n",
       "      <td>13</td>\n",
       "      <td>...</td>\n",
       "      <td>0.0</td>\n",
       "      <td>0.0</td>\n",
       "      <td>0.0</td>\n",
       "      <td>0.0</td>\n",
       "      <td>0.0</td>\n",
       "      <td>7.0</td>\n",
       "      <td>12.0</td>\n",
       "      <td>0.0</td>\n",
       "      <td>9.0</td>\n",
       "      <td>0.0</td>\n",
       "    </tr>\n",
       "    <tr>\n",
       "      <th>-9223188534444851899</th>\n",
       "      <td>13</td>\n",
       "      <td>0.0</td>\n",
       "      <td>1</td>\n",
       "      <td>13</td>\n",
       "      <td>1.0</td>\n",
       "      <td>1</td>\n",
       "      <td>13</td>\n",
       "      <td>0.0</td>\n",
       "      <td>1</td>\n",
       "      <td>13</td>\n",
       "      <td>...</td>\n",
       "      <td>0.0</td>\n",
       "      <td>0.0</td>\n",
       "      <td>0.0</td>\n",
       "      <td>0.0</td>\n",
       "      <td>0.0</td>\n",
       "      <td>0.0</td>\n",
       "      <td>0.0</td>\n",
       "      <td>0.0</td>\n",
       "      <td>3.0</td>\n",
       "      <td>0.0</td>\n",
       "    </tr>\n",
       "    <tr>\n",
       "      <th>-9223173911659837606</th>\n",
       "      <td>13</td>\n",
       "      <td>1.0</td>\n",
       "      <td>1</td>\n",
       "      <td>13</td>\n",
       "      <td>7.0</td>\n",
       "      <td>2</td>\n",
       "      <td>13</td>\n",
       "      <td>1.0</td>\n",
       "      <td>2</td>\n",
       "      <td>13</td>\n",
       "      <td>...</td>\n",
       "      <td>4.0</td>\n",
       "      <td>4.0</td>\n",
       "      <td>4.0</td>\n",
       "      <td>0.0</td>\n",
       "      <td>0.0</td>\n",
       "      <td>0.0</td>\n",
       "      <td>0.0</td>\n",
       "      <td>0.0</td>\n",
       "      <td>4.0</td>\n",
       "      <td>0.0</td>\n",
       "    </tr>\n",
       "  </tbody>\n",
       "</table>\n",
       "<p>5 rows × 3396 columns</p>\n",
       "</div>"
      ],
      "text/plain": [
       "                      B_30_count  B_30_last  B_30_nunique  B_38_count  \\\n",
       "customer_ID                                                             \n",
       "-9223358381327749917          13        0.0             2          13   \n",
       "-9223193039457028513          13        0.0             1          13   \n",
       "-9223189665817919541          13        0.0             1          13   \n",
       "-9223188534444851899          13        0.0             1          13   \n",
       "-9223173911659837606          13        1.0             1          13   \n",
       "\n",
       "                      B_38_last  B_38_nunique  D_114_count  D_114_last  \\\n",
       "customer_ID                                                              \n",
       "-9223358381327749917        7.0             3           13         1.0   \n",
       "-9223193039457028513        1.0             1           13         1.0   \n",
       "-9223189665817919541        1.0             1           13         0.0   \n",
       "-9223188534444851899        1.0             1           13         0.0   \n",
       "-9223173911659837606        7.0             2           13         1.0   \n",
       "\n",
       "                      D_114_nunique  D_116_count  ...  D_136_drawup_duration  \\\n",
       "customer_ID                                       ...                          \n",
       "-9223358381327749917              1           13  ...                    0.0   \n",
       "-9223193039457028513              1           13  ...                    0.0   \n",
       "-9223189665817919541              1           13  ...                    0.0   \n",
       "-9223188534444851899              1           13  ...                    0.0   \n",
       "-9223173911659837606              2           13  ...                    4.0   \n",
       "\n",
       "                      D_137_drawup_duration  D_138_drawup_duration  \\\n",
       "customer_ID                                                          \n",
       "-9223358381327749917                    0.0                    0.0   \n",
       "-9223193039457028513                    0.0                    0.0   \n",
       "-9223189665817919541                    0.0                    0.0   \n",
       "-9223188534444851899                    0.0                    0.0   \n",
       "-9223173911659837606                    4.0                    4.0   \n",
       "\n",
       "                      D_139_drawup_duration  D_140_drawup_duration  \\\n",
       "customer_ID                                                          \n",
       "-9223358381327749917                    0.0                    0.0   \n",
       "-9223193039457028513                    0.0                    0.0   \n",
       "-9223189665817919541                    0.0                    0.0   \n",
       "-9223188534444851899                    0.0                    0.0   \n",
       "-9223173911659837606                    0.0                    0.0   \n",
       "\n",
       "                      D_141_drawup_duration  D_142_drawup_duration  \\\n",
       "customer_ID                                                          \n",
       "-9223358381327749917                    0.0                    0.0   \n",
       "-9223193039457028513                    0.0                    0.0   \n",
       "-9223189665817919541                    7.0                   12.0   \n",
       "-9223188534444851899                    0.0                    0.0   \n",
       "-9223173911659837606                    0.0                    0.0   \n",
       "\n",
       "                      D_143_drawup_duration  D_144_drawup_duration  \\\n",
       "customer_ID                                                          \n",
       "-9223358381327749917                    0.0                    3.0   \n",
       "-9223193039457028513                    0.0                    1.0   \n",
       "-9223189665817919541                    0.0                    9.0   \n",
       "-9223188534444851899                    0.0                    3.0   \n",
       "-9223173911659837606                    0.0                    4.0   \n",
       "\n",
       "                      D_145_drawup_duration  \n",
       "customer_ID                                  \n",
       "-9223358381327749917                    0.0  \n",
       "-9223193039457028513                    0.0  \n",
       "-9223189665817919541                    0.0  \n",
       "-9223188534444851899                    0.0  \n",
       "-9223173911659837606                    0.0  \n",
       "\n",
       "[5 rows x 3396 columns]"
      ]
     },
     "execution_count": 15,
     "metadata": {},
     "output_type": "execute_result"
    }
   ],
   "source": [
    "full_agg_features.head()"
   ]
  },
  {
   "cell_type": "markdown",
   "metadata": {},
   "source": [
    "# Add target"
   ]
  },
  {
   "cell_type": "code",
   "execution_count": 16,
   "metadata": {},
   "outputs": [],
   "source": [
    "def add_target(df):\n",
    "    \n",
    "    targets = pd.read_csv(\"../input/train_labels.csv\")\n",
    "    \n",
    "    # REDUCE DTYPE FOR CUSTOMER AND DATE\n",
    "    targets[\"customer_ID\"] = targets[\"customer_ID\"].str[-16:]\n",
    "    \n",
    "    hex_to_int = lambda x: int(x, 16)\n",
    "    targets[[\"customer_ID\"]] = targets[[\"customer_ID\"]].applymap(lambda x: int(x, 16))\n",
    "    targets[\"customer_ID\"] = targets[\"customer_ID\"].astype(\"int64\")\n",
    "    \n",
    "    targets = targets.set_index(\"customer_ID\")\n",
    "    \n",
    "    df = df.merge(targets, left_index=True, right_index=True, how=\"left\")\n",
    "    df.target = df.target.astype(\"int8\")\n",
    "    \n",
    "    return df"
   ]
  },
  {
   "cell_type": "code",
   "execution_count": 17,
   "metadata": {},
   "outputs": [],
   "source": [
    "if mode == \"train\":\n",
    "    full_agg_features = add_target(full_agg_features)"
   ]
  },
  {
   "cell_type": "markdown",
   "metadata": {},
   "source": [
    "# label encoding"
   ]
  },
  {
   "cell_type": "code",
   "execution_count": null,
   "metadata": {},
   "outputs": [],
   "source": [
    "def label_encoding(df):\n",
    "    \n",
    "    cat_features_base = [\n",
    "        \"B_30\",\n",
    "        \"B_38\",\n",
    "        \"D_114\",\n",
    "        \"D_116\",\n",
    "        \"D_117\",\n",
    "        \"D_120\",\n",
    "        \"D_126\",\n",
    "        \"D_63\",\n",
    "        \"D_64\",\n",
    "        \"D_66\",\n",
    "        \"D_68\"\n",
    "    ] \n",
    "    cat_features = [\n",
    "        \"{}_last\".format(feature) for feature in cat_features_base\n",
    "    ]\n",
    "    \n",
    "    for feature in cat_features:\n",
    "        encoder = LabelEncoder()\n",
    "        df[feature] = encoder.fit_transform(df[feature])\n",
    "    \n",
    "    return df"
   ]
  },
  {
   "cell_type": "code",
   "execution_count": null,
   "metadata": {},
   "outputs": [],
   "source": [
    "full_agg_features = label_encoding(full_agg_features)"
   ]
  },
  {
   "cell_type": "code",
   "execution_count": null,
   "metadata": {},
   "outputs": [],
   "source": [
    "full_agg_features = full_agg_features.reset_index()"
   ]
  },
  {
   "cell_type": "code",
   "execution_count": null,
   "metadata": {},
   "outputs": [],
   "source": [
    "full_agg_features.head()"
   ]
  },
  {
   "cell_type": "code",
   "execution_count": null,
   "metadata": {},
   "outputs": [],
   "source": [
    "columns = full_agg_features.columns.tolist()"
   ]
  },
  {
   "cell_type": "code",
   "execution_count": null,
   "metadata": {},
   "outputs": [],
   "source": [
    "len(columns)"
   ]
  },
  {
   "cell_type": "code",
   "execution_count": null,
   "metadata": {},
   "outputs": [],
   "source": [
    "len(set(columns))"
   ]
  },
  {
   "cell_type": "code",
   "execution_count": null,
   "metadata": {},
   "outputs": [],
   "source": [
    "full_agg_features.to_parquet(\"../input/{}_full_features.parquet\".format(mode))"
   ]
  }
 ],
 "metadata": {
  "kernelspec": {
   "display_name": "trade",
   "language": "python",
   "name": "trade"
  },
  "language_info": {
   "codemirror_mode": {
    "name": "ipython",
    "version": 3
   },
   "file_extension": ".py",
   "mimetype": "text/x-python",
   "name": "python",
   "nbconvert_exporter": "python",
   "pygments_lexer": "ipython3",
   "version": "3.8.13"
  }
 },
 "nbformat": 4,
 "nbformat_minor": 4
}
